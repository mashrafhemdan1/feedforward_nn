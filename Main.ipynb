{
 "cells": [
  {
   "cell_type": "markdown",
   "id": "a81858e8",
   "metadata": {},
   "source": [
    "# Loading Data"
   ]
  },
  {
   "cell_type": "code",
   "execution_count": 17,
   "id": "0be263c4",
   "metadata": {},
   "outputs": [],
   "source": [
    "from model import *\n",
    "from preprocessing import *\n",
    "import matplotlib.pyplot as plt\n",
    "from sklearn.model_selection import train_test_split\n",
    "import random\n",
    "random_seed = 42\n",
    "random.seed(random_seed)\n",
    "X_train, X_test, y_train, y_test = load_np('./')\n",
    "dim = (32, 32)\n",
    "X_train, X_test = resize_images(X_train, X_test, dim)\n",
    "X_train, X_test = flatten_images(X_train, X_test)\n",
    "X = np.concatenate((X_train, X_test), axis=0)\n",
    "mean = np.mean(X, axis=0)\n",
    "std = np.std(X, axis=0)\n",
    "X_train = (X_train - mean)/std\n",
    "X_test = (X_test - mean)/std\n",
    "X_train_t, X_val, y_train_t, y_val = train_test_split(X_train, y_train, test_size=0.1, random_state=random_seed)\n",
    "y_train_t = y_train_t.reshape((-1, 1))\n",
    "y_val = y_val.reshape((-1, 1))\n",
    "y_test = y_test.reshape((-1, 1))\n",
    "input_shape = X_train.shape[1]"
   ]
  },
  {
   "cell_type": "markdown",
   "id": "1f885adb",
   "metadata": {},
   "source": [
    "# Hyperparameter tuning"
   ]
  },
  {
   "cell_type": "markdown",
   "id": "eba82f66",
   "metadata": {},
   "source": [
    "### Model Architecture"
   ]
  },
  {
   "cell_type": "code",
   "execution_count": 18,
   "id": "0d20195d",
   "metadata": {},
   "outputs": [
    {
     "name": "stdout",
     "output_type": "stream",
     "text": [
      "Neural Net:  [50, 5]  Loss: 1.3313686464555947 , acc: 0.44339622641509435\n",
      "-----------------------------------------------------------------\n",
      "Neural Net:  [128, 32, 5]  Loss: 1.3132177401015361 , acc: 0.42452830188679247\n",
      "-----------------------------------------------------------------\n",
      "Neural Net:  [512, 64, 5]  Loss: 1.2549772536238137 , acc: 0.46226415094339623\n",
      "-----------------------------------------------------------------\n",
      "Neural Net:  [128, 64, 16, 5]  Loss: 1.275433250193934 , acc: 0.44025157232704404\n",
      "-----------------------------------------------------------------\n",
      "Neural Net:  [512, 128, 32, 5]  Loss: 1.2623323044998709 , acc: 0.46540880503144655\n",
      "-----------------------------------------------------------------\n"
     ]
    }
   ],
   "source": [
    "arch = []\n",
    "arch.append([50, 5])\n",
    "arch.append([128, 32, 5])\n",
    "arch.append([512, 64, 5])\n",
    "arch.append([128, 64, 16, 5])\n",
    "arch.append([512, 128, 32, 5])\n",
    "activation = 'relu'\n",
    "lr = 0.001\n",
    "epochs = 100\n",
    "i = False\n",
    "batch_size = 16\n",
    "reg = 0.05\n",
    "for architecture in arch:\n",
    "    if i:\n",
    "        del nn\n",
    "        i = True\n",
    "    nn = NeuralNet(input_shape, architecture, 'relu', lr, reg)\n",
    "    training_loss, training_accuracy, validation_loss, validation_accuracy = nn.fit(X_train_t, y_train_t, (X_val, y_val), epochs, batch_size, verbose=False)\n",
    "    best_epoch = np.argmin(validation_loss)\n",
    "    print('Neural Net: ', architecture, ' Loss:', validation_loss[best_epoch], ', acc:', validation_accuracy[best_epoch])\n",
    "    print('-----------------------------------------------------------------')"
   ]
  },
  {
   "cell_type": "markdown",
   "id": "32735989",
   "metadata": {},
   "source": [
    "| Architecture         | No.of Neurons     | acc   | loss |\n",
    "|----------------------|-------------------|-------|------|\n",
    "| [50, 5]              | 55                | 0.443 | 1.33 |\n",
    "| [128, 32, 5]         | 165               | 0.424 |1.313 |\n",
    "| [512, 64, 5]         | 581               | 0.462 | 1.25 |\n",
    "| [128, 64, 16, 5]     | 213               | 0.440 | 1.27 |\n",
    "| [512, 128, 32, 5]    | 677               | 0.465 | 1.26 |"
   ]
  },
  {
   "cell_type": "code",
   "execution_count": 20,
   "id": "51d3e0b5",
   "metadata": {},
   "outputs": [
    {
     "data": {
      "image/png": "[encoded data removed]",
      "text/plain": [
       "<Figure size 432x288 with 1 Axes>"
      ]
     },
     "metadata": {
      "needs_background": "light"
     },
     "output_type": "display_data"
    }
   ],
   "source": [
    "x = [55, 165, 213, 581, 677]\n",
    "y = [44.3, 42.4, 44.0, 46.2, 46.5]\n",
    "plt.plot(x, y)\n",
    "plt.xlabel('No. of Neurons')\n",
    "plt.ylabel('Accuracy')\n",
    "plt.show()"
   ]
  },
  {
   "cell_type": "markdown",
   "id": "599e152e",
   "metadata": {},
   "source": [
    "We can see that as the number of neurons increases, the accuracy increases. Although the first architecture has small number of neurons it gives good results with respect to the other architectures. Here, we will use the 3 layered architecture [512, 64, 5], as it has pretty good accuracy and it's only 3 layers. We will use it next"
   ]
  },
  {
   "cell_type": "markdown",
   "id": "f6f3f6d5",
   "metadata": {},
   "source": [
    "### Learning Rate and Regularization"
   ]
  },
  {
   "cell_type": "markdown",
   "id": "e063f59e",
   "metadata": {},
   "source": [
    "##### Course Search"
   ]
  },
  {
   "cell_type": "code",
   "execution_count": 21,
   "id": "a03021ce",
   "metadata": {},
   "outputs": [
    {
     "name": "stdout",
     "output_type": "stream",
     "text": [
      "lr: 0.000841332632981202 , reg: 1.3044108051947598  -> loss: 1.463440864916594 , acc: 0.32075471698113206\n",
      "-----------------------------------------------------------------\n",
      "lr: 0.0002139773405658069 , reg: 0.0015857493678954682  -> loss: 1.4417329379949024 , acc: 0.36163522012578614\n",
      "-----------------------------------------------------------------\n",
      "lr: 9.330427394629357e-06 , reg: 7.794167115591616  -> loss: 1.730517237452616 , acc: 0.21069182389937108\n",
      "-----------------------------------------------------------------\n",
      "lr: 0.000548508676912149 , reg: 137.22604340279108  -> loss: 1.6094216011950007 , acc: 0.20440251572327045\n",
      "-----------------------------------------------------------------\n",
      "lr: 0.0008139698932261048 , reg: 0.023734197802324324  -> loss: 1.3673799557285802 , acc: 0.3805031446540881\n",
      "-----------------------------------------------------------------\n",
      "lr: 3.047432786474719e-05 , reg: 0.0005611820851697431  -> loss: 1.6810610147702492 , acc: 0.29559748427672955\n",
      "-----------------------------------------------------------------\n",
      "lr: 0.00025321361177018504 , reg: 1.630375939209321e-05  -> loss: 1.3809215408045146 , acc: 0.3867924528301887\n",
      "-----------------------------------------------------------------\n",
      "lr: 2.318331617553047e-05 , reg: 1.5815229636507433  -> loss: 1.667230752510435 , acc: 0.2169811320754717\n",
      "-----------------------------------------------------------------\n",
      "lr: 1.7068798376753895e-05 , reg: 0.0005801295348795913  -> loss: 1.8063699551381962 , acc: 0.22955974842767296\n",
      "-----------------------------------------------------------------\n",
      "lr: 0.0009561008867045453 , reg: 29.884338940572956  -> loss: 1.6093603237992324 , acc: 0.20440251572327045\n",
      "-----------------------------------------------------------------\n",
      "lr: 8.046033103397784e-06 , reg: 27.961084673510776  -> loss: 1.6242565955315267 , acc: 0.20125786163522014\n",
      "-----------------------------------------------------------------\n",
      "lr: 0.0003416343261944865 , reg: 0.005272348778347949  -> loss: 1.3951084188848555 , acc: 0.3710691823899371\n",
      "-----------------------------------------------------------------\n",
      "lr: 9.777241999253372e-05 , reg: 454.67866654837053  -> loss: 1.6094328091686356 , acc: 0.20440251572327045\n",
      "-----------------------------------------------------------------\n",
      "lr: 0.0005126853049761212 , reg: 5.5203516956214144e-05  -> loss: 1.3979650198259204 , acc: 0.42138364779874216\n",
      "-----------------------------------------------------------------\n",
      "lr: 1.5446208964192085e-05 , reg: 60.24970582670537  -> loss: 1.609150085840207 , acc: 0.22327044025157233\n",
      "-----------------------------------------------------------------\n",
      "lr: 6.468515749723685e-06 , reg: 28.64350673422928  -> loss: 1.6998498724876951 , acc: 0.22012578616352202\n",
      "-----------------------------------------------------------------\n",
      "lr: 1.2040726953876757e-06 , reg: 0.19490578591151161  -> loss: 2.406391659352882 , acc: 0.16981132075471697\n",
      "-----------------------------------------------------------------\n",
      "lr: 2.207385097321585e-05 , reg: 0.010672717588108978  -> loss: 1.8982974624763354 , acc: 0.24528301886792453\n",
      "-----------------------------------------------------------------\n",
      "lr: 1.3945713630678594e-05 , reg: 43.17549387070254  -> loss: 1.5998008328248496 , acc: 0.2169811320754717\n",
      "-----------------------------------------------------------------\n",
      "lr: 1.8532907760337742e-05 , reg: 78.28079047445345  -> loss: 1.6089924364119996 , acc: 0.1792452830188679\n",
      "-----------------------------------------------------------------\n",
      "lr: 0.0007286632206718912 , reg: 4.33086543312479  -> loss: 1.5252449980413973 , acc: 0.33647798742138363\n",
      "-----------------------------------------------------------------\n",
      "lr: 0.00013546780975813772 , reg: 0.0006655584554507678  -> loss: 1.480052137597735 , acc: 0.3584905660377358\n",
      "-----------------------------------------------------------------\n",
      "lr: 0.0002002752769247639 , reg: 4.348463363134191e-05  -> loss: 1.442218619217268 , acc: 0.34591194968553457\n",
      "-----------------------------------------------------------------\n",
      "lr: 0.000146581509808601 , reg: 6.427046399574645e-05  -> loss: 1.527199947714486 , acc: 0.3238993710691824\n",
      "-----------------------------------------------------------------\n",
      "lr: 8.044581633232755e-05 , reg: 1.217518458348737  -> loss: 1.5124700266764497 , acc: 0.3113207547169811\n",
      "-----------------------------------------------------------------\n",
      "lr: 0.00023522252504465388 , reg: 0.009150561346588159  -> loss: 1.4330955236295968 , acc: 0.37735849056603776\n",
      "-----------------------------------------------------------------\n",
      "lr: 1.5489458551766982e-06 , reg: 0.0013671701774209109  -> loss: 2.0744980238212767 , acc: 0.1949685534591195\n",
      "-----------------------------------------------------------------\n",
      "lr: 1.4880138824937187e-05 , reg: 1.5285620814299017  -> loss: 1.7157347216229626 , acc: 0.25157232704402516\n",
      "-----------------------------------------------------------------\n",
      "lr: 6.495604980727154e-06 , reg: 0.0002339425317545374  -> loss: 2.103942331071559 , acc: 0.14150943396226415\n",
      "-----------------------------------------------------------------\n",
      "lr: 7.271661846576665e-05 , reg: 0.00020287099072515614  -> loss: 1.5692757438885894 , acc: 0.3238993710691824\n",
      "-----------------------------------------------------------------\n",
      "lr: 1.2022664290184588e-05 , reg: 824.4926815997034  -> loss: 1.6092348434347266 , acc: 0.22012578616352202\n",
      "-----------------------------------------------------------------\n",
      "lr: 8.833996991723987e-06 , reg: 0.28549463419631343  -> loss: 1.9012305524987267 , acc: 0.22641509433962265\n",
      "-----------------------------------------------------------------\n",
      "lr: 4.698943957185425e-06 , reg: 55.31149047341349  -> loss: 1.6737601159653512 , acc: 0.2138364779874214\n",
      "-----------------------------------------------------------------\n",
      "lr: 0.0008011231252679626 , reg: 0.0006798053462405661  -> loss: 1.361072429218368 , acc: 0.4025157232704403\n",
      "-----------------------------------------------------------------\n",
      "lr: 0.00015731762165391365 , reg: 0.0033390612413389214  -> loss: 1.5643291439981966 , acc: 0.3238993710691824\n",
      "-----------------------------------------------------------------\n",
      "lr: 1.4834429774801425e-06 , reg: 0.00048737443944413456  -> loss: 2.1931121576563988 , acc: 0.2610062893081761\n",
      "-----------------------------------------------------------------\n",
      "lr: 0.0001137539163532545 , reg: 102.55126261359821  -> loss: 1.6094147560167569 , acc: 0.21069182389937108\n",
      "-----------------------------------------------------------------\n",
      "lr: 6.502858392314855e-05 , reg: 1.7519000392589734  -> loss: 1.5601293632782436 , acc: 0.2641509433962264\n",
      "-----------------------------------------------------------------\n",
      "lr: 4.201887709706137e-05 , reg: 207.19569036896777  -> loss: 1.6091467041546976 , acc: 0.22641509433962265\n",
      "-----------------------------------------------------------------\n",
      "lr: 0.0001820193155364835 , reg: 0.001315350008636776  -> loss: 1.4584948955734878 , acc: 0.36477987421383645\n",
      "-----------------------------------------------------------------\n",
      "lr: 0.00016284527969462003 , reg: 0.30970275828731403  -> loss: 1.4418729223330191 , acc: 0.36163522012578614\n",
      "-----------------------------------------------------------------\n",
      "lr: 2.025495810309345e-06 , reg: 0.4749937790951107  -> loss: 2.384933503664277 , acc: 0.17295597484276728\n",
      "-----------------------------------------------------------------\n",
      "lr: 0.00021980507857141462 , reg: 0.015674873372492595  -> loss: 1.3951637852203909 , acc: 0.389937106918239\n",
      "-----------------------------------------------------------------\n",
      "lr: 2.9608821306947546e-05 , reg: 955.6543741461817  -> loss: 1.6094354344619672 , acc: 0.20440251572327045\n",
      "-----------------------------------------------------------------\n",
      "lr: 0.0007221890075295039 , reg: 5.3367308134296716e-05  -> loss: 1.4233282054118828 , acc: 0.3742138364779874\n",
      "-----------------------------------------------------------------\n",
      "lr: 1.3111786678537883e-05 , reg: 7.536905028219357e-05  -> loss: 1.9731323269498358 , acc: 0.22327044025157233\n",
      "-----------------------------------------------------------------\n",
      "lr: 5.414023039653797e-05 , reg: 21.708754879117375  -> loss: 1.602299416633012 , acc: 0.22327044025157233\n",
      "-----------------------------------------------------------------\n"
     ]
    },
    {
     "name": "stdout",
     "output_type": "stream",
     "text": [
      "lr: 7.163778355449149e-05 , reg: 3.22271313543059e-05  -> loss: 1.5777892194116545 , acc: 0.33647798742138363\n",
      "-----------------------------------------------------------------\n",
      "lr: 2.586169375861441e-05 , reg: 931.0457927155956  -> loss: 1.609435378224979 , acc: 0.20440251572327045\n",
      "-----------------------------------------------------------------\n",
      "lr: 2.6161394711435873e-06 , reg: 586.985023811955  -> loss: 1.6062668393784154 , acc: 0.1949685534591195\n",
      "-----------------------------------------------------------------\n",
      "lr: 6.883899826618491e-06 , reg: 1.2355154356630435e-05  -> loss: 2.0897262853675493 , acc: 0.16037735849056603\n",
      "-----------------------------------------------------------------\n",
      "lr: 2.4495652294698126e-05 , reg: 2.8423853246856927  -> loss: 1.6842644847467296 , acc: 0.24528301886792453\n",
      "-----------------------------------------------------------------\n",
      "lr: 1.1943032228590768e-05 , reg: 0.0013633316580506556  -> loss: 1.8767460557678233 , acc: 0.20754716981132076\n",
      "-----------------------------------------------------------------\n",
      "lr: 4.962542600998736e-05 , reg: 7.80579944571279e-05  -> loss: 1.5587175575769847 , acc: 0.3113207547169811\n",
      "-----------------------------------------------------------------\n",
      "lr: 1.37579021859395e-06 , reg: 0.04263729561849725  -> loss: 2.226283503921495 , acc: 0.22955974842767296\n",
      "-----------------------------------------------------------------\n",
      "lr: 0.0001621186011487656 , reg: 101.58358208025444  -> loss: 1.6094044672639278 , acc: 0.19811320754716982\n",
      "-----------------------------------------------------------------\n",
      "lr: 0.0002911014431022683 , reg: 0.10108550950013191  -> loss: 1.4106664266980642 , acc: 0.34591194968553457\n",
      "-----------------------------------------------------------------\n",
      "lr: 2.4459315018915958e-06 , reg: 199.99664704725063  -> loss: 1.6148696341124857 , acc: 0.18238993710691823\n",
      "-----------------------------------------------------------------\n",
      "lr: 1.2110205572064946e-05 , reg: 0.0024409468980183605  -> loss: 1.9386427391039498 , acc: 0.23270440251572327\n",
      "-----------------------------------------------------------------\n",
      "lr: 0.00034792224288507617 , reg: 0.7443234325150725  -> loss: 1.3610656137365136 , acc: 0.34276729559748426\n",
      "-----------------------------------------------------------------\n",
      "lr: 2.4091448326488662e-05 , reg: 12.591758932934905  -> loss: 1.6064003339215096 , acc: 0.21069182389937108\n",
      "-----------------------------------------------------------------\n",
      "lr: 2.5641237623846687e-05 , reg: 16.943839504008057  -> loss: 1.5987854625918774 , acc: 0.22012578616352202\n",
      "-----------------------------------------------------------------\n",
      "lr: 0.00010654469462927622 , reg: 1.01059040148389e-05  -> loss: 1.5067021511723484 , acc: 0.29874213836477986\n",
      "-----------------------------------------------------------------\n",
      "lr: 1.6319398639370644e-06 , reg: 1.4315744511955981e-05  -> loss: 2.1674666319979483 , acc: 0.18553459119496854\n",
      "-----------------------------------------------------------------\n",
      "lr: 3.1989202410393964e-06 , reg: 107.09643702254475  -> loss: 1.6205680133723865 , acc: 0.17295597484276728\n",
      "-----------------------------------------------------------------\n",
      "lr: 0.0006702309834206347 , reg: 0.002884782024414727  -> loss: 1.3565013764976674 , acc: 0.4308176100628931\n",
      "-----------------------------------------------------------------\n",
      "lr: 1.4426190542870964e-06 , reg: 105.70043963012826  -> loss: 1.958741990275231 , acc: 0.20754716981132076\n",
      "-----------------------------------------------------------------\n",
      "lr: 3.483602632353129e-05 , reg: 4.844261919588581e-05  -> loss: 1.6845545903998977 , acc: 0.2861635220125786\n",
      "-----------------------------------------------------------------\n",
      "lr: 5.2262899968147415e-06 , reg: 3.578492800045512e-05  -> loss: 2.031505984931441 , acc: 0.22955974842767296\n",
      "-----------------------------------------------------------------\n",
      "lr: 0.00041193207213911407 , reg: 13.386758677630976  -> loss: 1.5966226678472932 , acc: 0.27672955974842767\n",
      "-----------------------------------------------------------------\n",
      "lr: 2.2417605357342076e-05 , reg: 0.06342478807901995  -> loss: 1.7467603155769502 , acc: 0.24842767295597484\n",
      "-----------------------------------------------------------------\n",
      "lr: 2.413797742290275e-06 , reg: 0.0013196325871493487  -> loss: 2.795192871633267 , acc: 0.18867924528301888\n",
      "-----------------------------------------------------------------\n",
      "lr: 0.00023152899342494446 , reg: 0.024271885885457273  -> loss: 1.4740034912079194 , acc: 0.3710691823899371\n",
      "-----------------------------------------------------------------\n",
      "lr: 6.459617355741211e-06 , reg: 0.20623801034830566  -> loss: 1.9766002583308544 , acc: 0.20125786163522014\n",
      "-----------------------------------------------------------------\n",
      "lr: 0.00011610505434934283 , reg: 0.0004066385116448222  -> loss: 1.4560971284844568 , acc: 0.3333333333333333\n",
      "-----------------------------------------------------------------\n",
      "lr: 1.122963982461812e-05 , reg: 914.5234652725267  -> loss: 1.6091601679096734 , acc: 0.22955974842767296\n",
      "-----------------------------------------------------------------\n",
      "lr: 2.8007379549640982e-05 , reg: 0.03197427245663566  -> loss: 1.8008259468026864 , acc: 0.2389937106918239\n",
      "-----------------------------------------------------------------\n",
      "lr: 0.00021179123796480733 , reg: 9.290381900633075e-05  -> loss: 1.4636328290271643 , acc: 0.3742138364779874\n",
      "-----------------------------------------------------------------\n",
      "lr: 1.7182005140375826e-05 , reg: 0.005066225274275182  -> loss: 1.767420558216845 , acc: 0.24528301886792453\n",
      "-----------------------------------------------------------------\n",
      "lr: 0.00021844788620409698 , reg: 0.0006932946690198724  -> loss: 1.454960368068011 , acc: 0.3867924528301887\n",
      "-----------------------------------------------------------------\n",
      "lr: 1.2784717270205461e-05 , reg: 3.69781081307163e-05  -> loss: 1.8711345469553862 , acc: 0.2169811320754717\n",
      "-----------------------------------------------------------------\n",
      "lr: 1.9219405993838886e-06 , reg: 0.0006784756573869425  -> loss: 2.4453473365344505 , acc: 0.16352201257861634\n",
      "-----------------------------------------------------------------\n",
      "lr: 0.0006129540943315622 , reg: 75.34999052332452  -> loss: 1.6094073534231772 , acc: 0.20440251572327045\n",
      "-----------------------------------------------------------------\n",
      "lr: 9.841621651172745e-06 , reg: 0.0008017465041476434  -> loss: 1.9030859034211398 , acc: 0.22641509433962265\n",
      "-----------------------------------------------------------------\n",
      "lr: 0.00040092621483870414 , reg: 0.0005174810598616098  -> loss: 1.3398787156597647 , acc: 0.389937106918239\n",
      "-----------------------------------------------------------------\n",
      "lr: 1.935845619234879e-05 , reg: 304.8694621944777  -> loss: 1.6073401742203948 , acc: 0.16037735849056603\n",
      "-----------------------------------------------------------------\n",
      "lr: 4.427328296781197e-06 , reg: 0.06044608958920362  -> loss: 1.9197082658868652 , acc: 0.18867924528301888\n",
      "-----------------------------------------------------------------\n",
      "lr: 0.0002683924266052207 , reg: 28.83872011417214  -> loss: 1.6068225555297462 , acc: 0.22327044025157233\n",
      "-----------------------------------------------------------------\n",
      "lr: 5.0915082613695246e-05 , reg: 5.962748802106664e-05  -> loss: 1.6145387077653492 , acc: 0.27358490566037735\n",
      "-----------------------------------------------------------------\n",
      "lr: 3.971238734935041e-05 , reg: 0.02446971911464792  -> loss: 1.627637486969905 , acc: 0.27672955974842767\n",
      "-----------------------------------------------------------------\n",
      "lr: 9.547866942489555e-06 , reg: 6.801532783065563  -> loss: 1.9119325099139284 , acc: 0.1949685534591195\n",
      "-----------------------------------------------------------------\n",
      "lr: 0.0005066947290827659 , reg: 747.0018733093897  -> loss: 1.6094353213325256 , acc: 0.20440251572327045\n",
      "-----------------------------------------------------------------\n",
      "lr: 9.596042965429959e-05 , reg: 0.016632987334477413  -> loss: 1.4734961121122032 , acc: 0.3238993710691824\n",
      "-----------------------------------------------------------------\n",
      "lr: 0.00017948617324612689 , reg: 78.2312538272315  -> loss: 1.6094044476363223 , acc: 0.22327044025157233\n",
      "-----------------------------------------------------------------\n"
     ]
    },
    {
     "name": "stdout",
     "output_type": "stream",
     "text": [
      "lr: 4.50982153925127e-05 , reg: 0.0003324078470782392  -> loss: 1.6550352080802089 , acc: 0.29559748427672955\n",
      "-----------------------------------------------------------------\n",
      "lr: 0.00014600393676289606 , reg: 0.02371663766757642  -> loss: 1.4921834813475063 , acc: 0.37735849056603776\n",
      "-----------------------------------------------------------------\n",
      "lr: 1.6990384301000907e-06 , reg: 0.000996440986584168  -> loss: 2.2016496871152893 , acc: 0.20125786163522014\n",
      "-----------------------------------------------------------------\n",
      "lr: 2.605869637627082e-06 , reg: 0.03507889952143826  -> loss: 1.937435561119476 , acc: 0.22327044025157233\n",
      "-----------------------------------------------------------------\n",
      "lr: 0.0007050745054034764 , reg: 0.2526984043491442  -> loss: 1.3187286841754893 , acc: 0.41823899371069184\n",
      "-----------------------------------------------------------------\n",
      "lr: 3.1039680676104187e-06 , reg: 986.869546227394  -> loss: 1.6088468670505243 , acc: 0.20754716981132076\n",
      "-----------------------------------------------------------------\n"
     ]
    }
   ],
   "source": [
    "arch = [512, 64, 5]\n",
    "activation = 'relu'\n",
    "epochs = 10\n",
    "i = False\n",
    "batch_size = 16\n",
    "best_loss = []\n",
    "best_acc = []\n",
    "reg_range = []\n",
    "lr_range = []\n",
    "max_iterations = 100\n",
    "for i in range(max_iterations):\n",
    "    reg = 10**random.uniform(-5, 3)\n",
    "    reg_range.append(reg)\n",
    "    lr = 10**random.uniform(-3, -6)\n",
    "    lr_range.append(lr)\n",
    "    if i:\n",
    "        del nn\n",
    "        i = True\n",
    "    nn = NeuralNet(input_shape, arch, activation, lr, reg)\n",
    "    training_loss, training_accuracy, validation_loss, validation_accuracy = nn.fit(X_train_t, y_train_t, (X_val, y_val), epochs, batch_size, verbose=False)\n",
    "    best_epoch = np.argmin(validation_loss)\n",
    "    print('lr:', lr, ', reg:', reg, ' -> loss:', validation_loss[best_epoch], ', acc:', validation_accuracy[best_epoch])\n",
    "    best_loss.append(validation_loss[best_epoch])\n",
    "    best_acc.append(validation_accuracy[best_epoch])\n",
    "    print('-----------------------------------------------------------------')"
   ]
  },
  {
   "cell_type": "code",
   "execution_count": 27,
   "id": "f29273df",
   "metadata": {},
   "outputs": [
    {
     "name": "stdout",
     "output_type": "stream",
     "text": [
      "84  lr: 0.00040092621483870414 , reg: 0.0005174810598616098  -> loss: 1.3398787156597647 , acc: 0.389937106918239\n",
      "59  lr: 0.00034792224288507617 , reg: 0.7443234325150725  -> loss: 1.3610656137365136 , acc: 0.34276729559748426\n",
      "98  lr: 0.0007050745054034764 , reg: 0.2526984043491442  -> loss: 1.3187286841754893 , acc: 0.41823899371069184\n",
      "65  lr: 0.0006702309834206347 , reg: 0.002884782024414727  -> loss: 1.3565013764976674 , acc: 0.4308176100628931\n",
      "4  lr: 0.0008139698932261048 , reg: 0.023734197802324324  -> loss: 1.3673799557285802 , acc: 0.3805031446540881\n",
      "33  lr: 0.0008011231252679626 , reg: 0.0006798053462405661  -> loss: 1.361072429218368 , acc: 0.4025157232704403\n",
      "6  lr: 0.00025321361177018504 , reg: 1.630375939209321e-05  -> loss: 1.3809215408045146 , acc: 0.3867924528301887\n",
      "11  lr: 0.0003416343261944865 , reg: 0.005272348778347949  -> loss: 1.3951084188848555 , acc: 0.3710691823899371\n",
      "42  lr: 0.00021980507857141462 , reg: 0.015674873372492595  -> loss: 1.3951637852203909 , acc: 0.389937106918239\n",
      "13  lr: 0.0005126853049761212 , reg: 5.5203516956214144e-05  -> loss: 1.3979650198259204 , acc: 0.42138364779874216\n"
     ]
    }
   ],
   "source": [
    "k = 10\n",
    "min_params = np.argpartition(np.asnumpy(np.array(best_loss)), k)[:k]\n",
    "for i in min_params:\n",
    "    print(i, ' lr:', lr_range[i], ', reg:', reg_range[i], ' -> loss:', best_loss[i], ', acc:', best_acc[i])"
   ]
  },
  {
   "cell_type": "markdown",
   "id": "bcc9c857",
   "metadata": {},
   "source": [
    "##### Fine Search"
   ]
  },
  {
   "cell_type": "code",
   "execution_count": 28,
   "id": "a6dbb7d8",
   "metadata": {},
   "outputs": [
    {
     "name": "stdout",
     "output_type": "stream",
     "text": [
      "0  lr: 0.00011847671854116283 , reg: 0.07515969847598732  -> loss: 1.561977433308926 , acc: 0.279874213836478\n",
      "-----------------------------------------------------------------\n",
      "True  lr: 0.0006818500699594759 , reg: 0.024818923342561774  -> loss: 1.3675191763466312 , acc: 0.41823899371069184\n",
      "-----------------------------------------------------------------\n",
      "True  lr: 0.0006112976141885896 , reg: 0.0008761218303644402  -> loss: 1.4122932714614709 , acc: 0.39622641509433965\n",
      "-----------------------------------------------------------------\n",
      "True  lr: 0.0008737045552918158 , reg: 0.00040193994634229053  -> loss: 1.3813189164414659 , acc: 0.39937106918238996\n",
      "-----------------------------------------------------------------\n",
      "True  lr: 0.0001034406298311277 , reg: 0.00032801407222894874  -> loss: 1.5167759115132422 , acc: 0.330188679245283\n",
      "-----------------------------------------------------------------\n",
      "True  lr: 0.00016441044243739296 , reg: 0.00011503029476942819  -> loss: 1.4990332256810683 , acc: 0.330188679245283\n",
      "-----------------------------------------------------------------\n",
      "True  lr: 0.0003775656827208116 , reg: 0.0006607443669983278  -> loss: 1.3778512178842564 , acc: 0.39622641509433965\n",
      "-----------------------------------------------------------------\n",
      "True  lr: 0.00010105953846654321 , reg: 0.0674948386443485  -> loss: 1.5213443136203864 , acc: 0.3553459119496855\n",
      "-----------------------------------------------------------------\n",
      "True  lr: 0.000191245720043985 , reg: 0.001671372659387192  -> loss: 1.442759237414536 , acc: 0.39308176100628933\n",
      "-----------------------------------------------------------------\n",
      "True  lr: 0.000505000926043748 , reg: 4.160900217398261e-05  -> loss: 1.3638318132739071 , acc: 0.41823899371069184\n",
      "-----------------------------------------------------------------\n",
      "True  lr: 0.0002635237179675429 , reg: 0.07496136045903137  -> loss: 1.388011156492179 , acc: 0.36163522012578614\n",
      "-----------------------------------------------------------------\n",
      "True  lr: 0.0001786588111030788 , reg: 0.0014749619114625893  -> loss: 1.4823165269315863 , acc: 0.3553459119496855\n",
      "-----------------------------------------------------------------\n",
      "True  lr: 0.0002605088043001978 , reg: 1.6930161136847083e-05  -> loss: 1.4827273978781068 , acc: 0.36163522012578614\n",
      "-----------------------------------------------------------------\n",
      "True  lr: 0.0001403718772515939 , reg: 0.0010266006423798766  -> loss: 1.52538618011793 , acc: 0.3018867924528302\n",
      "-----------------------------------------------------------------\n",
      "True  lr: 0.00010945134347091488 , reg: 4.263152926052097e-05  -> loss: 1.5538301429200887 , acc: 0.3333333333333333\n",
      "-----------------------------------------------------------------\n",
      "True  lr: 0.0006518910807594995 , reg: 2.0914421722120153e-05  -> loss: 1.4198092575145822 , acc: 0.4025157232704403\n",
      "-----------------------------------------------------------------\n",
      "True  lr: 0.0002112454903282658 , reg: 0.0023996086887152356  -> loss: 1.5279250666385256 , acc: 0.3522012578616352\n",
      "-----------------------------------------------------------------\n",
      "True  lr: 0.0007587756511035078 , reg: 8.726007461358895e-05  -> loss: 1.345881885798737 , acc: 0.4308176100628931\n",
      "-----------------------------------------------------------------\n",
      "True  lr: 0.0005672632544263157 , reg: 0.036404012642434265  -> loss: 1.3685840979062258 , acc: 0.4088050314465409\n",
      "-----------------------------------------------------------------\n",
      "True  lr: 0.0002402251590895316 , reg: 0.0023882325552016573  -> loss: 1.4378166697108283 , acc: 0.3710691823899371\n",
      "-----------------------------------------------------------------\n",
      "True  lr: 0.0002608120848167413 , reg: 0.00047522541798818754  -> loss: 1.442126668800947 , acc: 0.3805031446540881\n",
      "-----------------------------------------------------------------\n",
      "True  lr: 0.00011622344445656028 , reg: 0.0012334764498233943  -> loss: 1.5015008275879285 , acc: 0.3522012578616352\n",
      "-----------------------------------------------------------------\n",
      "True  lr: 0.00019222426067362823 , reg: 6.562008637298693e-05  -> loss: 1.5042758156546536 , acc: 0.36792452830188677\n",
      "-----------------------------------------------------------------\n",
      "True  lr: 0.00040198898515937296 , reg: 9.010394592409802e-05  -> loss: 1.4507840534090923 , acc: 0.3522012578616352\n",
      "-----------------------------------------------------------------\n",
      "True  lr: 0.0005011906036274947 , reg: 0.0048613947969863265  -> loss: 1.4533258024453755 , acc: 0.3710691823899371\n",
      "-----------------------------------------------------------------\n",
      "True  lr: 0.0001770661349899313 , reg: 0.00018395380908549383  -> loss: 1.499007620826682 , acc: 0.33962264150943394\n",
      "-----------------------------------------------------------------\n",
      "True  lr: 0.0003481083793719704 , reg: 1.950619035158425e-05  -> loss: 1.3954270827233652 , acc: 0.3742138364779874\n",
      "-----------------------------------------------------------------\n",
      "True  lr: 0.00010090287766939246 , reg: 0.09858657145488624  -> loss: 1.496207341198596 , acc: 0.3333333333333333\n",
      "-----------------------------------------------------------------\n",
      "True  lr: 0.000612132851793752 , reg: 1.9635541583732536e-05  -> loss: 1.478543647812379 , acc: 0.3522012578616352\n",
      "-----------------------------------------------------------------\n",
      "True  lr: 0.00011661129598563391 , reg: 0.00011502749418232188  -> loss: 1.4756295748928319 , acc: 0.34276729559748426\n",
      "-----------------------------------------------------------------\n",
      "True  lr: 0.00013204737053840843 , reg: 0.03337772212337715  -> loss: 1.550372924783937 , acc: 0.33647798742138363\n",
      "-----------------------------------------------------------------\n",
      "True  lr: 0.0006954295932066937 , reg: 0.000300682640173027  -> loss: 1.4288376095245583 , acc: 0.3710691823899371\n",
      "-----------------------------------------------------------------\n",
      "True  lr: 0.00019790650756191315 , reg: 0.021626180256467873  -> loss: 1.4858866036714684 , acc: 0.34276729559748426\n",
      "-----------------------------------------------------------------\n",
      "True  lr: 0.00010298333132665307 , reg: 0.00279711977037836  -> loss: 1.5570536953324114 , acc: 0.31761006289308175\n",
      "-----------------------------------------------------------------\n",
      "True  lr: 0.0009821479010420112 , reg: 0.004129574170907785  -> loss: 1.349134423178561 , acc: 0.4339622641509434\n",
      "-----------------------------------------------------------------\n",
      "True  lr: 0.0005019046829227157 , reg: 0.018553102352170045  -> loss: 1.4129648282134295 , acc: 0.3584905660377358\n",
      "-----------------------------------------------------------------\n",
      "True  lr: 0.00011509858805933956 , reg: 0.004503548662992987  -> loss: 1.5083287192182893 , acc: 0.3553459119496855\n",
      "-----------------------------------------------------------------\n",
      "True  lr: 0.0007666044387989794 , reg: 3.444803530463465e-05  -> loss: 1.3694067789553794 , acc: 0.42138364779874216\n",
      "-----------------------------------------------------------------\n",
      "True  lr: 0.00027975403491841246 , reg: 2.6800562597621546e-05  -> loss: 1.4411288967303342 , acc: 0.389937106918239\n",
      "-----------------------------------------------------------------\n",
      "True  lr: 0.000248410628121928 , reg: 0.00012285500367742805  -> loss: 1.3921692110565485 , acc: 0.3805031446540881\n",
      "-----------------------------------------------------------------\n",
      "True  lr: 0.0006257526358719297 , reg: 0.007420766195063626  -> loss: 1.3954983621499502 , acc: 0.39308176100628933\n",
      "-----------------------------------------------------------------\n",
      "True  lr: 0.0005445228367677917 , reg: 0.0034431174352081858  -> loss: 1.3910995248604052 , acc: 0.4119496855345912\n",
      "-----------------------------------------------------------------\n",
      "True  lr: 0.00012435507361209424 , reg: 0.0008997615050711833  -> loss: 1.5090346794662908 , acc: 0.3584905660377358\n",
      "-----------------------------------------------------------------\n",
      "True  lr: 0.0008085400412291287 , reg: 0.02423342802718552  -> loss: 1.4107790866741154 , acc: 0.39937106918238996\n",
      "-----------------------------------------------------------------\n",
      "True  lr: 0.0005288344953835825 , reg: 0.0004946557824228017  -> loss: 1.417316215111299 , acc: 0.37735849056603776\n",
      "-----------------------------------------------------------------\n",
      "True  lr: 0.00016938727327280804 , reg: 1.033196095660428e-05  -> loss: 1.4939419502466513 , acc: 0.3710691823899371\n",
      "-----------------------------------------------------------------\n"
     ]
    },
    {
     "name": "stdout",
     "output_type": "stream",
     "text": [
      "True  lr: 0.0005470723150330831 , reg: 0.0035355217166447234  -> loss: 1.3702960567225475 , acc: 0.4339622641509434\n",
      "-----------------------------------------------------------------\n",
      "True  lr: 0.0002807498797214697 , reg: 0.009224092158908011  -> loss: 1.4234834853174958 , acc: 0.3584905660377358\n",
      "-----------------------------------------------------------------\n",
      "True  lr: 0.0009779807363040878 , reg: 0.0005137450801673016  -> loss: 1.3994885049209813 , acc: 0.3805031446540881\n",
      "-----------------------------------------------------------------\n",
      "True  lr: 0.00013088612393824422 , reg: 1.9997487790209126e-05  -> loss: 1.515803045470509 , acc: 0.3270440251572327\n",
      "-----------------------------------------------------------------\n",
      "True  lr: 0.00028471458210705357 , reg: 0.041277585556330446  -> loss: 1.4261233700715916 , acc: 0.3867924528301887\n",
      "-----------------------------------------------------------------\n",
      "True  lr: 0.00026151128426953713 , reg: 0.02179616463011448  -> loss: 1.5098526215203563 , acc: 0.3584905660377358\n",
      "-----------------------------------------------------------------\n",
      "True  lr: 0.0007456834095261669 , reg: 3.911786488391092e-05  -> loss: 1.3152561468334991 , acc: 0.44654088050314467\n",
      "-----------------------------------------------------------------\n",
      "True  lr: 0.00012618813195524497 , reg: 0.00017101468300697952  -> loss: 1.4457756666219734 , acc: 0.3710691823899371\n",
      "-----------------------------------------------------------------\n",
      "True  lr: 0.0001378152946624531 , reg: 0.015292877845922011  -> loss: 1.4758078551001297 , acc: 0.3490566037735849\n",
      "-----------------------------------------------------------------\n",
      "True  lr: 0.0006164863451748649 , reg: 0.03941835950977992  -> loss: 1.333327812516228 , acc: 0.4119496855345912\n",
      "-----------------------------------------------------------------\n",
      "True  lr: 0.0007892350759190251 , reg: 9.956781045663863e-05  -> loss: 1.304744398300485 , acc: 0.4371069182389937\n",
      "-----------------------------------------------------------------\n",
      "True  lr: 0.00013057658269610158 , reg: 0.01319668855869935  -> loss: 1.5056002580903671 , acc: 0.3238993710691824\n",
      "-----------------------------------------------------------------\n",
      "True  lr: 0.00023951818378483705 , reg: 0.00042219157187815056  -> loss: 1.4453566935659174 , acc: 0.3836477987421384\n",
      "-----------------------------------------------------------------\n",
      "True  lr: 0.00011752194874714614 , reg: 4.151579447786737e-05  -> loss: 1.5363806864436824 , acc: 0.32075471698113206\n",
      "-----------------------------------------------------------------\n",
      "True  lr: 0.00010563162650636555 , reg: 0.028735766424035095  -> loss: 1.4484721073807028 , acc: 0.36477987421383645\n",
      "-----------------------------------------------------------------\n",
      "True  lr: 0.0001313964994652799 , reg: 0.017501967770479507  -> loss: 1.5283173616478312 , acc: 0.279874213836478\n",
      "-----------------------------------------------------------------\n",
      "True  lr: 0.00018341528637916106 , reg: 1.2564506854333158e-05  -> loss: 1.4823086712184543 , acc: 0.36477987421383645\n",
      "-----------------------------------------------------------------\n",
      "True  lr: 0.00011726924091049207 , reg: 0.0002131777488617512  -> loss: 1.4243464637411314 , acc: 0.36477987421383645\n",
      "-----------------------------------------------------------------\n",
      "True  lr: 0.00013675271951285503 , reg: 0.016178585773708263  -> loss: 1.505105110407499 , acc: 0.36163522012578614\n",
      "-----------------------------------------------------------------\n",
      "True  lr: 0.0005409962944319606 , reg: 0.017498356741049853  -> loss: 1.3936510892435137 , acc: 0.39622641509433965\n",
      "-----------------------------------------------------------------\n",
      "True  lr: 0.00077965842024827 , reg: 0.014109058576968314  -> loss: 1.3682381729099655 , acc: 0.4056603773584906\n",
      "-----------------------------------------------------------------\n",
      "True  lr: 0.00013848627974488346 , reg: 0.030808257223099423  -> loss: 1.524843724445412 , acc: 0.31446540880503143\n",
      "-----------------------------------------------------------------\n",
      "True  lr: 0.00015255041533828467 , reg: 7.757733748316168e-05  -> loss: 1.5044897375930486 , acc: 0.3490566037735849\n",
      "-----------------------------------------------------------------\n",
      "True  lr: 0.0004952324940894287 , reg: 0.0006937658826501669  -> loss: 1.399828595694558 , acc: 0.36477987421383645\n",
      "-----------------------------------------------------------------\n",
      "True  lr: 0.0005921128859571923 , reg: 0.015183853211841566  -> loss: 1.3894007475914096 , acc: 0.389937106918239\n",
      "-----------------------------------------------------------------\n",
      "True  lr: 0.0006410179805874187 , reg: 1.2435342141911742e-05  -> loss: 1.3752031688648698 , acc: 0.4025157232704403\n",
      "-----------------------------------------------------------------\n",
      "True  lr: 0.00013666177525568178 , reg: 0.00020561169097719982  -> loss: 1.5946542550664562 , acc: 0.3270440251572327\n",
      "-----------------------------------------------------------------\n",
      "True  lr: 0.0005258658970500168 , reg: 0.07371509272988874  -> loss: 1.3676813182516943 , acc: 0.389937106918239\n",
      "-----------------------------------------------------------------\n",
      "True  lr: 0.00039840209696490427 , reg: 0.0036806706189740717  -> loss: 1.3986071535255873 , acc: 0.37735849056603776\n",
      "-----------------------------------------------------------------\n",
      "True  lr: 0.0002909271600544624 , reg: 0.08406181230176495  -> loss: 1.410706472663672 , acc: 0.3710691823899371\n",
      "-----------------------------------------------------------------\n",
      "True  lr: 0.0007667578803710196 , reg: 0.057141095361526784  -> loss: 1.4128926882455133 , acc: 0.3805031446540881\n",
      "-----------------------------------------------------------------\n",
      "True  lr: 0.0006628758298654167 , reg: 0.07613817172892637  -> loss: 1.3804189709598784 , acc: 0.42452830188679247\n",
      "-----------------------------------------------------------------\n",
      "True  lr: 0.0005426672809933683 , reg: 0.07081695729817775  -> loss: 1.379052607266424 , acc: 0.3805031446540881\n",
      "-----------------------------------------------------------------\n",
      "True  lr: 0.00036765141468811727 , reg: 2.7140021593244805e-05  -> loss: 1.4214590326043348 , acc: 0.36477987421383645\n",
      "-----------------------------------------------------------------\n",
      "True  lr: 0.00048564920909922236 , reg: 0.008206920805275927  -> loss: 1.3896078796177203 , acc: 0.39937106918238996\n",
      "-----------------------------------------------------------------\n",
      "True  lr: 0.0003080185984023715 , reg: 0.002659716902416647  -> loss: 1.4143854742978388 , acc: 0.39308176100628933\n",
      "-----------------------------------------------------------------\n",
      "True  lr: 0.00026510136047900484 , reg: 0.0003473615414828455  -> loss: 1.3716669126332894 , acc: 0.39308176100628933\n",
      "-----------------------------------------------------------------\n",
      "True  lr: 0.00019553059244777163 , reg: 0.00010444557004884608  -> loss: 1.5264280958587 , acc: 0.34276729559748426\n",
      "-----------------------------------------------------------------\n",
      "True  lr: 0.00011869292555346863 , reg: 1.0156992058183553e-05  -> loss: 1.5906717358030285 , acc: 0.32075471698113206\n",
      "-----------------------------------------------------------------\n",
      "True  lr: 0.00019079632303023702 , reg: 0.0014249774388464898  -> loss: 1.4168454941023547 , acc: 0.39622641509433965\n",
      "-----------------------------------------------------------------\n",
      "True  lr: 0.00021348703007023338 , reg: 0.009285393461353868  -> loss: 1.464068104301375 , acc: 0.3805031446540881\n",
      "-----------------------------------------------------------------\n",
      "True  lr: 0.0008511893651696646 , reg: 0.0002863425492818866  -> loss: 1.3826812443944163 , acc: 0.389937106918239\n",
      "-----------------------------------------------------------------\n",
      "True  lr: 0.00046751975208450595 , reg: 0.00453890130716246  -> loss: 1.3584068060155758 , acc: 0.41509433962264153\n",
      "-----------------------------------------------------------------\n",
      "True  lr: 0.00014190075967697566 , reg: 0.0001801617452397538  -> loss: 1.4841634445671135 , acc: 0.3584905660377358\n",
      "-----------------------------------------------------------------\n",
      "True  lr: 0.0005008154656032688 , reg: 0.007568626117469736  -> loss: 1.3913866505943937 , acc: 0.39937106918238996\n",
      "-----------------------------------------------------------------\n"
     ]
    },
    {
     "name": "stdout",
     "output_type": "stream",
     "text": [
      "True  lr: 0.0003904874597746839 , reg: 0.00017263889549728464  -> loss: 1.448207283069028 , acc: 0.3867924528301887\n",
      "-----------------------------------------------------------------\n",
      "True  lr: 0.0005062264085701988 , reg: 0.00040700669038938673  -> loss: 1.374635957587307 , acc: 0.389937106918239\n",
      "-----------------------------------------------------------------\n",
      "True  lr: 0.0003797988682183681 , reg: 3.229618292434884e-05  -> loss: 1.4263076128434735 , acc: 0.39622641509433965\n",
      "-----------------------------------------------------------------\n",
      "True  lr: 0.00021022388355282124 , reg: 0.057737062300664006  -> loss: 1.4608331163386692 , acc: 0.36792452830188677\n",
      "-----------------------------------------------------------------\n",
      "True  lr: 0.0002423734719356785 , reg: 0.040852833397505915  -> loss: 1.39357517037819 , acc: 0.3836477987421384\n",
      "-----------------------------------------------------------------\n",
      "True  lr: 0.00028318013656708594 , reg: 0.000159881972740045  -> loss: 1.4373019129928575 , acc: 0.3710691823899371\n",
      "-----------------------------------------------------------------\n",
      "True  lr: 0.0005165189781001678 , reg: 1.003745840974186e-05  -> loss: 1.426229551930367 , acc: 0.3522012578616352\n",
      "-----------------------------------------------------------------\n",
      "True  lr: 0.0002630360164918338 , reg: 0.0005242670942350267  -> loss: 1.3867539106001339 , acc: 0.3805031446540881\n",
      "-----------------------------------------------------------------\n",
      "True  lr: 0.0003427771075442949 , reg: 0.004157406539116836  -> loss: 1.447985402489816 , acc: 0.3836477987421384\n",
      "-----------------------------------------------------------------\n"
     ]
    }
   ],
   "source": [
    "arch = [512, 64, 5]\n",
    "activation = 'relu'\n",
    "epochs = 10\n",
    "i = False\n",
    "batch_size = 16\n",
    "best_loss = []\n",
    "best_acc = []\n",
    "reg_range = []\n",
    "lr_range = []\n",
    "max_iterations = 100\n",
    "for i in range(max_iterations):\n",
    "    reg = 10**random.uniform(-5, -1)\n",
    "    reg_range.append(reg)\n",
    "    lr = 10**random.uniform(-3, -4)\n",
    "    lr_range.append(lr)\n",
    "    if i:\n",
    "        del nn\n",
    "        i = True\n",
    "    nn = NeuralNet(input_shape, arch, activation, lr, reg)\n",
    "    training_loss, training_accuracy, validation_loss, validation_accuracy = nn.fit(X_train_t, y_train_t, (X_val, y_val), epochs, batch_size, verbose=False)\n",
    "    best_epoch = np.argmin(validation_loss)\n",
    "    print(i, ' lr:', lr, ', reg:', reg, ' -> loss:', validation_loss[best_epoch], ', acc:', validation_accuracy[best_epoch])\n",
    "    best_loss.append(validation_loss[best_epoch])\n",
    "    best_acc.append(validation_accuracy[best_epoch])\n",
    "    print('-----------------------------------------------------------------')"
   ]
  },
  {
   "cell_type": "code",
   "execution_count": 29,
   "id": "4aea6988",
   "metadata": {},
   "outputs": [
    {
     "name": "stdout",
     "output_type": "stream",
     "text": [
      "52  lr: 0.0007456834095261669 , reg: 3.911786488391092e-05  -> loss: 1.3152561468334991 , acc: 0.44654088050314467\n",
      "56  lr: 0.0007892350759190251 , reg: 9.956781045663863e-05  -> loss: 1.304744398300485 , acc: 0.4371069182389937\n",
      "55  lr: 0.0006164863451748649 , reg: 0.03941835950977992  -> loss: 1.333327812516228 , acc: 0.4119496855345912\n",
      "17  lr: 0.0007587756511035078 , reg: 8.726007461358895e-05  -> loss: 1.345881885798737 , acc: 0.4308176100628931\n",
      "88  lr: 0.00046751975208450595 , reg: 0.00453890130716246  -> loss: 1.3584068060155758 , acc: 0.41509433962264153\n",
      "34  lr: 0.0009821479010420112 , reg: 0.004129574170907785  -> loss: 1.349134423178561 , acc: 0.4339622641509434\n",
      "9  lr: 0.000505000926043748 , reg: 4.160900217398261e-05  -> loss: 1.3638318132739071 , acc: 0.41823899371069184\n",
      "1  lr: 0.0006818500699594759 , reg: 0.024818923342561774  -> loss: 1.3675191763466312 , acc: 0.41823899371069184\n",
      "73  lr: 0.0005258658970500168 , reg: 0.07371509272988874  -> loss: 1.3676813182516943 , acc: 0.389937106918239\n",
      "66  lr: 0.00077965842024827 , reg: 0.014109058576968314  -> loss: 1.3682381729099655 , acc: 0.4056603773584906\n"
     ]
    }
   ],
   "source": [
    "k = 10\n",
    "min_params = np.argpartition(np.asnumpy(np.array(best_loss)), k)[:k]\n",
    "for i in min_params:\n",
    "    print(i, ' lr:', lr_range[i], ', reg:', reg_range[i], ' -> loss:', best_loss[i], ', acc:', best_acc[i])"
   ]
  },
  {
   "cell_type": "markdown",
   "id": "35f58996",
   "metadata": {},
   "source": [
    "### Activation Functions"
   ]
  },
  {
   "cell_type": "code",
   "execution_count": 30,
   "id": "1918e649",
   "metadata": {},
   "outputs": [
    {
     "name": "stdout",
     "output_type": "stream",
     "text": [
      "Activation: linear  -> loss: 1.7387127447481594 , acc: 0.34591194968553457\n",
      "-----------------------------------------------------------------\n",
      "Activation: tanh  -> loss: 1.3688348179517722 , acc: 0.389937106918239\n",
      "-----------------------------------------------------------------\n",
      "Activation: sigmoid  -> loss: 1.3607459590096083 , acc: 0.3490566037735849\n",
      "-----------------------------------------------------------------\n",
      "Activation: relu  -> loss: 1.3980831052285723 , acc: 0.4119496855345912\n",
      "-----------------------------------------------------------------\n"
     ]
    }
   ],
   "source": [
    "arch = [512, 64, 5]\n",
    "reg = 3.9e-5\n",
    "lr = 0.00075\n",
    "epochs = 50\n",
    "i = False\n",
    "batch_size = 16\n",
    "best_loss = {}\n",
    "best_acc = {}\n",
    "act_func = ['linear', 'tanh', 'sigmoid', 'relu']\n",
    "for act in act_func:\n",
    "    if i:\n",
    "        del nn\n",
    "        i = True\n",
    "    nn = NeuralNet(input_shape, arch, act, lr, reg)\n",
    "    training_loss, training_accuracy, validation_loss, validation_accuracy = nn.fit(X_train_t, y_train_t, (X_val, y_val), epochs, batch_size, verbose=False)\n",
    "    best_epoch = np.argmin(validation_loss)\n",
    "    print('Activation:', act, ' -> loss:', validation_loss[best_epoch], ', acc:', validation_accuracy[best_epoch])\n",
    "    best_loss[act] = validation_loss[best_epoch]\n",
    "    best_acc[act] = validation_accuracy[best_epoch]\n",
    "    print('-----------------------------------------------------------------')"
   ]
  },
  {
   "cell_type": "markdown",
   "id": "08ff58b1",
   "metadata": {},
   "source": [
    "We can see that the best accuracy and loss are for relu, which we will use next"
   ]
  },
  {
   "cell_type": "markdown",
   "id": "a8e34663",
   "metadata": {},
   "source": [
    "### Training batch size"
   ]
  },
  {
   "cell_type": "code",
   "execution_count": 31,
   "id": "12e7d18a",
   "metadata": {},
   "outputs": [
    {
     "name": "stdout",
     "output_type": "stream",
     "text": [
      "Batch Size: 1  -> loss: 1.330325196433499 , acc: 0.41509433962264153\n",
      "-----------------------------------------------------------------\n",
      "Batch Size: 8  -> loss: 1.3966261554079449 , acc: 0.39622641509433965\n",
      "-----------------------------------------------------------------\n",
      "Batch Size: 16  -> loss: 1.4072254378297335 , acc: 0.4088050314465409\n",
      "-----------------------------------------------------------------\n",
      "Batch Size: 32  -> loss: 1.3431116247258845 , acc: 0.4025157232704403\n",
      "-----------------------------------------------------------------\n",
      "Batch Size: 64  -> loss: 1.3421707288265932 , acc: 0.3490566037735849\n",
      "-----------------------------------------------------------------\n",
      "Batch Size: 128  -> loss: 1.4656962990435187 , acc: 0.3018867924528302\n",
      "-----------------------------------------------------------------\n"
     ]
    }
   ],
   "source": [
    "arch = [512, 64, 5]\n",
    "reg = 3.9e-5\n",
    "lr = 0.00075\n",
    "epochs = 50\n",
    "act = 'relu'\n",
    "i = False\n",
    "best_loss = []\n",
    "best_acc = []\n",
    "batch_range = [1, 8, 16, 32, 64, 128]\n",
    "for batch_size in batch_range:\n",
    "    if i:\n",
    "        del nn\n",
    "        i = True\n",
    "    nn = NeuralNet(input_shape, arch, act, lr, reg)\n",
    "    training_loss, training_accuracy, validation_loss, validation_accuracy = nn.fit(X_train_t, y_train_t, (X_val, y_val), epochs, batch_size, verbose=False)\n",
    "    best_epoch = np.argmin(validation_loss)\n",
    "    print('Batch Size:', batch_size, ' -> loss:', validation_loss[best_epoch], ', acc:', validation_accuracy[best_epoch])\n",
    "    best_loss.append(validation_loss[best_epoch])\n",
    "    best_acc.append(validation_accuracy[best_epoch])\n",
    "    print('-----------------------------------------------------------------')"
   ]
  },
  {
   "cell_type": "markdown",
   "id": "85947d90",
   "metadata": {},
   "source": [
    "We can see that as the size of the batch increases the accuracy decreases. However, the problem with low batch_sizes is that they take a lot of time as they are less parallelizable. In our case, we will choose Batch Size of 32, as it has good accuracy besides the fact it's quite large."
   ]
  },
  {
   "cell_type": "code",
   "execution_count": 38,
   "id": "c990ab98",
   "metadata": {},
   "outputs": [
    {
     "data": {
      "text/plain": [
       "list"
      ]
     },
     "execution_count": 38,
     "metadata": {},
     "output_type": "execute_result"
    }
   ],
   "source": [
    "type(batch_range)"
   ]
  },
  {
   "cell_type": "code",
   "execution_count": 41,
   "id": "1f065ed9",
   "metadata": {},
   "outputs": [
    {
     "data": {
      "image/png": "[encoded data removed]",
      "text/plain": [
       "<Figure size 432x288 with 1 Axes>"
      ]
     },
     "metadata": {
      "needs_background": "light"
     },
     "output_type": "display_data"
    },
    {
     "data": {
      "image/png": "[encoded data removed]",
      "text/plain": [
       "<Figure size 432x288 with 1 Axes>"
      ]
     },
     "metadata": {
      "needs_background": "light"
     },
     "output_type": "display_data"
    }
   ],
   "source": [
    "plt.plot(np.asnumpy(np.array(batch_range)), np.asnumpy(np.array(best_loss)), label='Validation Loss', color='red')\n",
    "plt.xlabel('Batch Size')\n",
    "plt.ylabel('Loss')\n",
    "plt.show()\n",
    "plt.plot(np.asnumpy(np.array(batch_range)), np.asnumpy(np.array(best_acc)), label='Validation Accuracy', color='blue')\n",
    "plt.xlabel('Batch Size')\n",
    "plt.ylabel('Accuracy')\n",
    "plt.show()"
   ]
  },
  {
   "cell_type": "markdown",
   "id": "6cab0779",
   "metadata": {},
   "source": [
    "### Training the Neural Network with the best parameters"
   ]
  },
  {
   "cell_type": "code",
   "execution_count": 42,
   "id": "7065fcdb",
   "metadata": {},
   "outputs": [
    {
     "name": "stdout",
     "output_type": "stream",
     "text": [
      "Epoch ( 0 )-> Train (Loss: 1.5463 , Acc: 0.3524 ), Val (Loss: 1.6378 , Acc: 0.2516 )\n",
      "Epoch ( 1 )-> Train (Loss: 1.3973 , Acc: 0.4168 ), Val (Loss: 1.5412 , Acc: 0.3019 )\n",
      "Epoch ( 2 )-> Train (Loss: 1.3069 , Acc: 0.4543 ), Val (Loss: 1.495 , Acc: 0.3176 )\n",
      "Epoch ( 3 )-> Train (Loss: 1.2396 , Acc: 0.4865 ), Val (Loss: 1.4659 , Acc: 0.3333 )\n",
      "Epoch ( 4 )-> Train (Loss: 1.1849 , Acc: 0.5194 ), Val (Loss: 1.445 , Acc: 0.3491 )\n",
      "Epoch ( 5 )-> Train (Loss: 1.1389 , Acc: 0.5461 ), Val (Loss: 1.43 , Acc: 0.3522 )\n",
      "Epoch ( 6 )-> Train (Loss: 1.099 , Acc: 0.5629 ), Val (Loss: 1.4181 , Acc: 0.3553 )\n",
      "Epoch ( 7 )-> Train (Loss: 1.0636 , Acc: 0.5825 ), Val (Loss: 1.408 , Acc: 0.3553 )\n",
      "Epoch ( 8 )-> Train (Loss: 1.0316 , Acc: 0.5982 ), Val (Loss: 1.4002 , Acc: 0.3522 )\n",
      "Epoch ( 9 )-> Train (Loss: 1.0023 , Acc: 0.614 ), Val (Loss: 1.3936 , Acc: 0.3616 )\n",
      "Epoch ( 10 )-> Train (Loss: 0.9749 , Acc: 0.6273 ), Val (Loss: 1.388 , Acc: 0.3711 )\n",
      "Epoch ( 11 )-> Train (Loss: 0.9493 , Acc: 0.6406 ), Val (Loss: 1.3833 , Acc: 0.3774 )\n",
      "Epoch ( 12 )-> Train (Loss: 0.9252 , Acc: 0.6578 ), Val (Loss: 1.3794 , Acc: 0.3836 )\n",
      "Epoch ( 13 )-> Train (Loss: 0.9025 , Acc: 0.6701 ), Val (Loss: 1.3755 , Acc: 0.3868 )\n",
      "Epoch ( 14 )-> Train (Loss: 0.8809 , Acc: 0.6809 ), Val (Loss: 1.3726 , Acc: 0.3868 )\n",
      "Epoch ( 15 )-> Train (Loss: 0.8603 , Acc: 0.6946 ), Val (Loss: 1.3701 , Acc: 0.3868 )\n",
      "Epoch ( 16 )-> Train (Loss: 0.8406 , Acc: 0.71 ), Val (Loss: 1.3677 , Acc: 0.3899 )\n",
      "Epoch ( 17 )-> Train (Loss: 0.8216 , Acc: 0.7194 ), Val (Loss: 1.366 , Acc: 0.3962 )\n",
      "Epoch ( 18 )-> Train (Loss: 0.8034 , Acc: 0.731 ), Val (Loss: 1.3639 , Acc: 0.3962 )\n",
      "Epoch ( 19 )-> Train (Loss: 0.7859 , Acc: 0.745 ), Val (Loss: 1.3612 , Acc: 0.3962 )\n",
      "Epoch ( 20 )-> Train (Loss: 0.7689 , Acc: 0.752 ), Val (Loss: 1.3596 , Acc: 0.4119 )\n",
      "Epoch ( 21 )-> Train (Loss: 0.7526 , Acc: 0.7604 ), Val (Loss: 1.3577 , Acc: 0.4119 )\n",
      "Epoch ( 22 )-> Train (Loss: 0.7368 , Acc: 0.7685 ), Val (Loss: 1.356 , Acc: 0.4151 )\n",
      "Epoch ( 23 )-> Train (Loss: 0.7214 , Acc: 0.7765 ), Val (Loss: 1.3548 , Acc: 0.4151 )\n",
      "Epoch ( 24 )-> Train (Loss: 0.7066 , Acc: 0.7881 ), Val (Loss: 1.3535 , Acc: 0.4151 )\n",
      "Epoch ( 25 )-> Train (Loss: 0.6921 , Acc: 0.7982 ), Val (Loss: 1.3528 , Acc: 0.4182 )\n",
      "Epoch ( 26 )-> Train (Loss: 0.6781 , Acc: 0.8046 ), Val (Loss: 1.3517 , Acc: 0.4182 )\n",
      "Epoch ( 27 )-> Train (Loss: 0.6645 , Acc: 0.8098 ), Val (Loss: 1.3511 , Acc: 0.4182 )\n",
      "Epoch ( 28 )-> Train (Loss: 0.6512 , Acc: 0.8161 ), Val (Loss: 1.351 , Acc: 0.4182 )\n",
      "Epoch ( 29 )-> Train (Loss: 0.6384 , Acc: 0.8235 ), Val (Loss: 1.3505 , Acc: 0.4214 )\n",
      "Epoch ( 30 )-> Train (Loss: 0.6257 , Acc: 0.8277 ), Val (Loss: 1.3505 , Acc: 0.4214 )\n",
      "Epoch ( 31 )-> Train (Loss: 0.6135 , Acc: 0.8354 ), Val (Loss: 1.35 , Acc: 0.4214 )\n",
      "Epoch ( 32 )-> Train (Loss: 0.6016 , Acc: 0.8438 ), Val (Loss: 1.3504 , Acc: 0.4245 )\n",
      "Epoch ( 33 )-> Train (Loss: 0.5899 , Acc: 0.848 ), Val (Loss: 1.3501 , Acc: 0.4245 )\n",
      "Epoch ( 34 )-> Train (Loss: 0.5786 , Acc: 0.8529 ), Val (Loss: 1.3505 , Acc: 0.4245 )\n",
      "Epoch ( 35 )-> Train (Loss: 0.5675 , Acc: 0.8602 ), Val (Loss: 1.3505 , Acc: 0.4277 )\n",
      "Epoch ( 36 )-> Train (Loss: 0.5566 , Acc: 0.8655 ), Val (Loss: 1.3505 , Acc: 0.4277 )\n",
      "Epoch ( 37 )-> Train (Loss: 0.5459 , Acc: 0.8708 ), Val (Loss: 1.3511 , Acc: 0.4214 )\n",
      "Epoch ( 38 )-> Train (Loss: 0.5356 , Acc: 0.8764 ), Val (Loss: 1.3517 , Acc: 0.4214 )\n",
      "Epoch ( 39 )-> Train (Loss: 0.5253 , Acc: 0.882 ), Val (Loss: 1.3518 , Acc: 0.4214 )\n",
      "Epoch ( 40 )-> Train (Loss: 0.5154 , Acc: 0.8893 ), Val (Loss: 1.3528 , Acc: 0.4214 )\n",
      "Epoch ( 41 )-> Train (Loss: 0.5056 , Acc: 0.8932 ), Val (Loss: 1.3533 , Acc: 0.4182 )\n",
      "Epoch ( 42 )-> Train (Loss: 0.4959 , Acc: 0.897 ), Val (Loss: 1.3549 , Acc: 0.4214 )\n",
      "Epoch ( 43 )-> Train (Loss: 0.4865 , Acc: 0.9023 ), Val (Loss: 1.3559 , Acc: 0.4245 )\n",
      "Epoch ( 44 )-> Train (Loss: 0.4773 , Acc: 0.9065 ), Val (Loss: 1.3569 , Acc: 0.4245 )\n",
      "Epoch ( 45 )-> Train (Loss: 0.4684 , Acc: 0.911 ), Val (Loss: 1.3582 , Acc: 0.4245 )\n",
      "Epoch ( 46 )-> Train (Loss: 0.4597 , Acc: 0.9128 ), Val (Loss: 1.3597 , Acc: 0.4245 )\n",
      "Epoch ( 47 )-> Train (Loss: 0.4511 , Acc: 0.9142 ), Val (Loss: 1.361 , Acc: 0.4245 )\n",
      "Epoch ( 48 )-> Train (Loss: 0.4427 , Acc: 0.9166 ), Val (Loss: 1.3625 , Acc: 0.4245 )\n",
      "Epoch ( 49 )-> Train (Loss: 0.4345 , Acc: 0.9205 ), Val (Loss: 1.364 , Acc: 0.4245 )\n"
     ]
    },
    {
     "data": {
      "image/png": "[encoded data removed]",
      "text/plain": [
       "<Figure size 432x288 with 1 Axes>"
      ]
     },
     "metadata": {
      "needs_background": "light"
     },
     "output_type": "display_data"
    },
    {
     "data": {
      "image/png": "[encoded data removed]",
      "text/plain": [
       "<Figure size 432x288 with 1 Axes>"
      ]
     },
     "metadata": {
      "needs_background": "light"
     },
     "output_type": "display_data"
    }
   ],
   "source": [
    "arch = [512, 64, 5]\n",
    "reg = 3.9e-5\n",
    "lr = 0.00075\n",
    "epochs = 50\n",
    "act = 'relu'\n",
    "batch_size = 32\n",
    "nn = NeuralNet(input_shape, arch, act, lr, reg)\n",
    "training_loss, training_accuracy, validation_loss, validation_accuracy = nn.fit(X_train_t, y_train_t, (X_val, y_val), epochs, batch_size, verbose=True)\n",
    "plot_graphs(training_loss, training_accuracy, validation_loss, validation_accuracy, epochs)"
   ]
  },
  {
   "cell_type": "markdown",
   "id": "efa19530",
   "metadata": {},
   "source": [
    "The model reachs a validation accuracy of 42%. "
   ]
  },
  {
   "cell_type": "code",
   "execution_count": 43,
   "id": "ce0eeea5",
   "metadata": {},
   "outputs": [
    {
     "name": "stdout",
     "output_type": "stream",
     "text": [
      "Test Results -> Accuracy:  0.48893360160965793 , Loss:  1.3032430201125258\n"
     ]
    }
   ],
   "source": [
    "# Lets evaluate it on the test data\n",
    "acc, loss = nn.evaluate(X_test, y_test, batch_size)\n",
    "print('Test Results -> Accuracy: ', acc, ', Loss: ', loss)"
   ]
  },
  {
   "cell_type": "markdown",
   "id": "21625a01",
   "metadata": {},
   "source": [
    "It gives higher accuracy of ~49%"
   ]
  },
  {
   "cell_type": "markdown",
   "id": "cdd9353c",
   "metadata": {},
   "source": [
    "### CCR Calculations"
   ]
  },
  {
   "cell_type": "markdown",
   "id": "ede6489b",
   "metadata": {},
   "source": [
    "##### Correct Classification Rate per class"
   ]
  },
  {
   "cell_type": "code",
   "execution_count": 61,
   "id": "5ea15bc6",
   "metadata": {},
   "outputs": [
    {
     "name": "stdout",
     "output_type": "stream",
     "text": [
      "Class  0 : CCR->  0.38\n",
      "Class  1 : CCR->  0.66\n",
      "Class  2 : CCR->  0.26262626262626265\n",
      "Class  3 : CCR->  0.6767676767676768\n",
      "Class  4 : CCR->  0.47474747474747475\n"
     ]
    }
   ],
   "source": [
    "for i in range(5):\n",
    "    isclass = (y_test==i).reshape((-1,))\n",
    "    X_class = X_test[isclass]\n",
    "    y_class = y_test[isclass]\n",
    "    acc, _ = nn.evaluate(X_class, y_class, batch_size)\n",
    "    print('Class ', i, ': CCR-> ', acc)"
   ]
  },
  {
   "cell_type": "markdown",
   "id": "44300857",
   "metadata": {},
   "source": [
    "##### Average Correct Classification Rate"
   ]
  },
  {
   "cell_type": "code",
   "execution_count": 62,
   "id": "932bcf44",
   "metadata": {},
   "outputs": [
    {
     "name": "stdout",
     "output_type": "stream",
     "text": [
      "ACCR->  0.48893360160965793\n"
     ]
    }
   ],
   "source": [
    "acc, _ = nn.evaluate(X_test, y_test, batch_size)\n",
    "print('ACCR-> ', acc)"
   ]
  }
 ],
 "metadata": {
  "kernelspec": {
   "display_name": "Python 3",
   "language": "python",
   "name": "python3"
  },
  "language_info": {
   "codemirror_mode": {
    "name": "ipython",
    "version": 3
   },
   "file_extension": ".py",
   "mimetype": "text/x-python",
   "name": "python",
   "nbconvert_exporter": "python",
   "pygments_lexer": "ipython3",
   "version": "3.8.8"
  }
 },
 "nbformat": 4,
 "nbformat_minor": 5
}
